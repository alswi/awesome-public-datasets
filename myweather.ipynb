{
  "nbformat": 4,
  "nbformat_minor": 0,
  "metadata": {
    "colab": {
      "provenance": [],
      "authorship_tag": "ABX9TyMUyNd8TKTGW7O7vAARmpQo",
      "include_colab_link": true
    },
    "kernelspec": {
      "name": "python3",
      "display_name": "Python 3"
    },
    "language_info": {
      "name": "python"
    }
  },
  "cells": [
    {
      "cell_type": "markdown",
      "metadata": {
        "id": "view-in-github",
        "colab_type": "text"
      },
      "source": [
        "<a href=\"https://colab.research.google.com/github/alswi/awesome-public-datasets/blob/master/myweather.ipynb\" target=\"_parent\"><img src=\"https://colab.research.google.com/assets/colab-badge.svg\" alt=\"Open In Colab\"/></a>"
      ]
    },
    {
      "cell_type": "code",
      "execution_count": 1,
      "metadata": {
        "id": "NA7H1Ern_mbv"
      },
      "outputs": [],
      "source": [
        "import requests\n",
        "\n",
        "\n",
        "\n",
        "\n"
      ]
    },
    {
      "cell_type": "code",
      "source": [
        "# Replace 'your_api_key' with your actual API key\n",
        "api_key = 'e044ae199d7683f8768fa52d2477eb7a'\n",
        "base_url = 'http://api.openweathermap.org/data/2.5/weather'\n",
        "\n",
        "# Specify the city for which you want the weather data\n",
        "city_name = 'Hong Kong'\n",
        "params = {\n",
        "    'q': city_name,\n",
        "    'appid': api_key\n",
        "}\n",
        "\n",
        "try:\n",
        "    # Sending a GET request to the OpenWeatherMap API\n",
        "    response = requests.get(base_url, params=params)\n",
        "    response.raise_for_status()  # Check for HTTP request errors\n",
        "\n",
        "    # Parse the JSON response\n",
        "    weather_data = response.json()\n",
        "    if weather_data['cod'] == 200:\n",
        "        print(f\"City: {weather_data['name']}\")\n",
        "        print(f\"Temperature: {weather_data['main']['temp']}K\",int(weather_data['main']['temp'])-273.15,\"C\")\n",
        "        print(f\"Weather: {weather_data['weather'][0]['description']}\")\n",
        "    else:\n",
        "        print(f\"Error: {weather_data['message']}\")\n",
        "except requests.exceptions.RequestException as e:\n",
        "    print(f\"HTTP Request failed: {e}\")"
      ],
      "metadata": {
        "colab": {
          "base_uri": "https://localhost:8080/"
        },
        "id": "iihMQo-G_tm6",
        "outputId": "c6204a9c-3dbc-4b16-eba5-3897b6dc5ea5"
      },
      "execution_count": 5,
      "outputs": [
        {
          "output_type": "stream",
          "name": "stdout",
          "text": [
            "City: Hong Kong\n",
            "Temperature: 292.2K 18.850000000000023 C\n",
            "Weather: overcast clouds\n"
          ]
        }
      ]
    },
    {
      "cell_type": "code",
      "source": [
        "city_name = 'Japan'\n",
        "params = {\n",
        "    'q': city_name,\n",
        "    'appid': api_key\n",
        "}\n",
        "\n",
        "try:\n",
        "    # Sending a GET request to the OpenWeatherMap API\n",
        "    response = requests.get(base_url, params=params)\n",
        "    response.raise_for_status()  # Check for HTTP request errors\n",
        "\n",
        "    # Parse the JSON response\n",
        "    weather_data = response.json()\n",
        "    if weather_data['cod'] == 200:\n",
        "        print(f\"City: {weather_data['name']}\")\n",
        "        print(f\"Temperature: {weather_data['main']['temp']}K\",int(weather_data['main']['temp'])-273.15,\"C\")\n",
        "        print(f\"Weather: {weather_data['weather'][0]['description']}\")\n",
        "    else:\n",
        "        print(f\"Error: {weather_data['message']}\")\n",
        "except requests.exceptions.RequestException as e:\n",
        "    print(f\"HTTP Request failed: {e}\")"
      ],
      "metadata": {
        "colab": {
          "base_uri": "https://localhost:8080/"
        },
        "id": "SDpMapAxNO4u",
        "outputId": "dbbac41d-6a97-48e7-ee5e-3f901fc7a848"
      },
      "execution_count": 6,
      "outputs": [
        {
          "output_type": "stream",
          "name": "stdout",
          "text": [
            "City: Japan\n",
            "Temperature: 288.78K 14.850000000000023 C\n",
            "Weather: few clouds\n"
          ]
        }
      ]
    },
    {
      "cell_type": "code",
      "source": [
        "city_name = 'Germany'\n",
        "params = {\n",
        "    'q': city_name,\n",
        "    'appid': api_key\n",
        "}\n",
        "\n",
        "try:\n",
        "    # Sending a GET request to the OpenWeatherMap API\n",
        "    response = requests.get(base_url, params=params)\n",
        "    response.raise_for_status()  # Check for HTTP request errors\n",
        "\n",
        "    # Parse the JSON response\n",
        "    weather_data = response.json()\n",
        "    if weather_data['cod'] == 200:\n",
        "        print(f\"City: {weather_data['name']}\")\n",
        "        print(f\"Temperature: {weather_data['main']['temp']}K\",int(weather_data['main']['temp'])-273.15,\"C\")\n",
        "        print(f\"Weather: {weather_data['weather'][0]['description']}\")\n",
        "    else:\n",
        "        print(f\"Error: {weather_data['message']}\")\n",
        "except requests.exceptions.RequestException as e:\n",
        "    print(f\"HTTP Request failed: {e}\")"
      ],
      "metadata": {
        "colab": {
          "base_uri": "https://localhost:8080/"
        },
        "id": "D-nyaOQmNtDO",
        "outputId": "64d5be94-07a9-4d6a-a611-3301caa5a7bf"
      },
      "execution_count": 7,
      "outputs": [
        {
          "output_type": "stream",
          "name": "stdout",
          "text": [
            "City: Germany\n",
            "Temperature: 280.12K 6.850000000000023 C\n",
            "Weather: broken clouds\n"
          ]
        }
      ]
    },
    {
      "cell_type": "code",
      "source": [],
      "metadata": {
        "id": "V0sLUEVtNzeq"
      },
      "execution_count": null,
      "outputs": []
    }
  ]
}