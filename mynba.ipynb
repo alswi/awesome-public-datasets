{
  "nbformat": 4,
  "nbformat_minor": 0,
  "metadata": {
    "colab": {
      "provenance": [],
      "authorship_tag": "ABX9TyPCbps70fDIjbpV8epJRwgd",
      "include_colab_link": true
    },
    "kernelspec": {
      "name": "python3",
      "display_name": "Python 3"
    },
    "language_info": {
      "name": "python"
    }
  },
  "cells": [
    {
      "cell_type": "markdown",
      "metadata": {
        "id": "view-in-github",
        "colab_type": "text"
      },
      "source": [
        "<a href=\"https://colab.research.google.com/github/alswi/awesome-public-datasets/blob/master/mynba.ipynb\" target=\"_parent\"><img src=\"https://colab.research.google.com/assets/colab-badge.svg\" alt=\"Open In Colab\"/></a>"
      ]
    },
    {
      "cell_type": "code",
      "execution_count": 1,
      "metadata": {
        "id": "KqnJLF7zkJz0"
      },
      "outputs": [],
      "source": [
        "import requests\n",
        "from bs4 import BeautifulSoup,Comment"
      ]
    },
    {
      "cell_type": "code",
      "source": [
        "Team1 = \"MIL\"\n",
        "Team2 = \"SAC\""
      ],
      "metadata": {
        "id": "voDpmRoJugfp"
      },
      "execution_count": 2,
      "outputs": []
    },
    {
      "cell_type": "code",
      "source": [
        "\n",
        "#url = \"https://www.basketball-reference.com/teams/GSW/2025.html\"\n",
        "url = f\"https://www.basketball-reference.com/teams/{Team1}/2025.html#team_and_opponent\"\n",
        "print(url)\n",
        "\n",
        "\n",
        "\n",
        "\n",
        "\n",
        "web = requests.get(url)\n",
        "\n",
        "html = BeautifulSoup(web.text,'html.parser')\n",
        "\n",
        "comments = html.find_all(string=lambda text: isinstance(text, Comment))\n",
        "\n",
        "aoe = 0\n",
        "ade = 0\n",
        "\n",
        "for comment in comments:\n",
        "  if \"div_team_and_opponent\" in comment:\n",
        "    html2 = BeautifulSoup(comment)\n",
        "    pts=html2.find('td',{'data-stat':'pts'}).text\n",
        "    fga=html2.find('td',{'data-stat':'fga'}).text\n",
        "    tov=html2.find('td',{'data-stat':'tov'}).text\n",
        "    orb=html2.find('td',{'data-stat':'orb'}).text\n",
        "    fta=html2.find('td',{'data-stat':'fta'}).text\n",
        "    opp_pts=html2.find('td',{'data-stat':'opp_pts'}).text\n",
        "    opp_fga=html2.find('td',{'data-stat':'opp_fga'}).text\n",
        "    opp_tov=html2.find('td',{'data-stat':'opp_tov'}).text\n",
        "    opp_orb=html2.find('td',{'data-stat':'opp_orb'}).text\n",
        "    opp_fta=html2.find('td',{'data-stat':'opp_fta'}).text\n",
        "\n",
        "    aoe = (int(pts)/(int(fga)+int(tov)-int(orb)+(0.4*int(fta))))*100\n",
        "    ade = (int(opp_pts)/(int(opp_fga)+int(opp_tov)-int(opp_orb)+(0.4*int(opp_fta))))*100\n",
        "    print(f\"The OE of {Team1} is {aoe}\")\n",
        "    print(f\"The DE of {Team1} is {ade}\")\n",
        "\n",
        "\n",
        "\n"
      ],
      "metadata": {
        "colab": {
          "base_uri": "https://localhost:8080/"
        },
        "id": "C0Ai0P3Dklrx",
        "outputId": "b627c529-bac2-4e75-d668-e4d427e25e77"
      },
      "execution_count": 3,
      "outputs": [
        {
          "output_type": "stream",
          "name": "stdout",
          "text": [
            "https://www.basketball-reference.com/teams/MIL/2025.html#team_and_opponent\n",
            "The OE of MIL is 114.17920209287115\n",
            "The DE of MIL is 111.92998017322341\n"
          ]
        }
      ]
    },
    {
      "cell_type": "code",
      "source": [
        "\n",
        "#url = \"https://www.basketball-reference.com/teams/GSW/2025.html\"\n",
        "url = f\"https://www.basketball-reference.com/teams/{Team2}/2025.html#team_and_opponent\"\n",
        "\n",
        "\n",
        "web = requests.get(url)\n",
        "\n",
        "html = BeautifulSoup(web.text,'html.parser')\n",
        "\n",
        "comments = html.find_all(string=lambda text: isinstance(text, Comment))\n",
        "\n",
        "boe = 0\n",
        "bde = 0\n",
        "\n",
        "\n",
        "for comment in comments:\n",
        "  if \"div_team_and_opponent\" in comment:\n",
        "    html2 = BeautifulSoup(comment)\n",
        "    pts=html2.find('td',{'data-stat':'pts'}).text\n",
        "    fga=html2.find('td',{'data-stat':'fga'}).text\n",
        "    tov=html2.find('td',{'data-stat':'tov'}).text\n",
        "    orb=html2.find('td',{'data-stat':'orb'}).text\n",
        "    fta=html2.find('td',{'data-stat':'fta'}).text\n",
        "    opp_pts=html2.find('td',{'data-stat':'opp_pts'}).text\n",
        "    opp_fga=html2.find('td',{'data-stat':'opp_fga'}).text\n",
        "    opp_tov=html2.find('td',{'data-stat':'opp_tov'}).text\n",
        "    opp_orb=html2.find('td',{'data-stat':'opp_orb'}).text\n",
        "    opp_fta=html2.find('td',{'data-stat':'opp_fta'}).text\n",
        "\n",
        "    boe = (int(pts)/(int(fga)+int(tov)-int(orb)+(0.4*int(fta))))*100\n",
        "    bde = (int(opp_pts)/(int(opp_fga)+int(opp_tov)-int(opp_orb)+(0.4*int(opp_fta))))*100\n",
        "    print(f\"The OE of {Team2} is {boe}\")\n",
        "    print(f\"The DE of {Team2} is {bde}\")\n"
      ],
      "metadata": {
        "colab": {
          "base_uri": "https://localhost:8080/"
        },
        "id": "ZRoVktYWAkpp",
        "outputId": "a2cd37ce-f717-4cdc-a355-c1dcf74e0969"
      },
      "execution_count": 4,
      "outputs": [
        {
          "output_type": "stream",
          "name": "stdout",
          "text": [
            "The OE of SAC is 114.23040947827894\n",
            "The DE of SAC is 114.45971267957526\n"
          ]
        }
      ]
    },
    {
      "cell_type": "code",
      "source": [
        "print(f\"The predicted score of {Team1} vs {Team2} is\",int(round(aoe/bde*100,0)),\"-\",int(round(boe/ade*100,0)))"
      ],
      "metadata": {
        "id": "A9whwKskn_ot",
        "colab": {
          "base_uri": "https://localhost:8080/"
        },
        "outputId": "29b8ef3b-4a90-4ad2-a160-d4fe4a85b755"
      },
      "execution_count": 5,
      "outputs": [
        {
          "output_type": "stream",
          "name": "stdout",
          "text": [
            "The predicted score of MIL vs SAC is 100 - 102\n"
          ]
        }
      ]
    },
    {
      "cell_type": "markdown",
      "source": [
        "**Adjustment made by AI without considering DE when predicting match result**"
      ],
      "metadata": {
        "id": "CaT9O1mVvN_i"
      }
    },
    {
      "cell_type": "code",
      "source": [
        "import requests\n",
        "from bs4 import BeautifulSoup, Comment\n",
        "\n",
        "def get_team_efficiency(team):\n",
        "    url = f\"https://www.basketball-reference.com/teams/{team}/2025.html#team_and_opponent\"\n",
        "    print(f\"Fetching data for {team}: {url}\")\n",
        "\n",
        "    web = requests.get(url)\n",
        "    html = BeautifulSoup(web.text, 'html.parser')\n",
        "\n",
        "    # Extract data from comments\n",
        "    comments = html.find_all(string=lambda text: isinstance(text, Comment))\n",
        "    for comment in comments:\n",
        "        if \"div_team_and_opponent\" in comment:\n",
        "            html2 = BeautifulSoup(comment, 'html.parser')\n",
        "            try:\n",
        "                pts = int(html2.find('td', {'data-stat': 'pts'}).text)\n",
        "                fga = int(html2.find('td', {'data-stat': 'fga'}).text)\n",
        "                tov = int(html2.find('td', {'data-stat': 'tov'}).text)\n",
        "                orb = int(html2.find('td', {'data-stat': 'orb'}).text)\n",
        "                fta = int(html2.find('td', {'data-stat': 'fta'}).text)\n",
        "                opp_pts = int(html2.find('td', {'data-stat': 'opp_pts'}).text)\n",
        "                opp_fga = int(html2.find('td', {'data-stat': 'opp_fga'}).text)\n",
        "                opp_tov = int(html2.find('td', {'data-stat': 'opp_tov'}).text)\n",
        "                opp_orb = int(html2.find('td', {'data-stat': 'opp_orb'}).text)\n",
        "                opp_fta = int(html2.find('td', {'data-stat': 'opp_fta'}).text)\n",
        "\n",
        "                # Calculate OE and DE\n",
        "                oe = (pts / (fga + tov - orb + (0.4 * fta))) * 100\n",
        "                de = (opp_pts / (opp_fga + opp_tov - opp_orb + (0.4 * opp_fta))) * 100\n",
        "                return oe, de\n",
        "            except (AttributeError, ValueError):\n",
        "                print(f\"Error parsing data for {team}.\")\n",
        "                return None, None\n",
        "    print(f\"No data found for {team}.\")\n",
        "    return None, None\n",
        "\n",
        "# Teams\n",
        "#team1 = \"BOS\"\n",
        "#team2 = \"SAS\"\n",
        "\n",
        "# Get efficiencies\n",
        "aoe, ade = get_team_efficiency(Team1)\n",
        "boe, bde = get_team_efficiency(Team2)\n",
        "\n",
        "if aoe and ade and boe and bde:\n",
        "    # Possession-based prediction\n",
        "    possessions = 100  # Approximate possessions (can be calculated as shown earlier)\n",
        "    team1_score = (aoe * possessions) / 100\n",
        "    team2_score = (boe * possessions) / 100\n",
        "\n",
        "    print(f\"The predicted score of {Team1} vs {Team2} is {int(round(team1_score))} - {int(round(team2_score))}\")\n",
        "else:\n",
        "    print(\"Could not calculate predicted score due to missing data.\")"
      ],
      "metadata": {
        "id": "iXikx5c_0HJw",
        "outputId": "27152169-ac72-489c-df9c-fe3d065bdaff",
        "colab": {
          "base_uri": "https://localhost:8080/"
        }
      },
      "execution_count": 7,
      "outputs": [
        {
          "output_type": "stream",
          "name": "stdout",
          "text": [
            "Fetching data for MIL: https://www.basketball-reference.com/teams/MIL/2025.html#team_and_opponent\n",
            "Fetching data for SAC: https://www.basketball-reference.com/teams/SAC/2025.html#team_and_opponent\n",
            "The predicted score of MIL vs SAC is 114 - 114\n"
          ]
        }
      ]
    }
  ]
}